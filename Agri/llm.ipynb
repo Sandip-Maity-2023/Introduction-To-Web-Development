{
 "cells": [
  {
   "cell_type": "code",
   "execution_count": null,
   "id": "81143c10",
   "metadata": {},
   "outputs": [
    {
     "name": "stdout",
     "output_type": "stream",
     "text": [
      "      Agriculture Year            District          Crop     Area Area Unit  \\\n",
      "0              2001-02  Thiruvananthapuram         Paddy   6810.0   Hectare   \n",
      "1              2001-02              Kollam         Paddy  11459.0   Hectare   \n",
      "2              2001-02      Pathanamthitta         Paddy   5218.0   Hectare   \n",
      "3              2001-02           Alappuzha         Paddy  33111.0   Hectare   \n",
      "4              2001-02            Kottayam         Paddy  15250.0   Hectare   \n",
      "...                ...                 ...           ...      ...       ...   \n",
      "21555          2023-24          Malappuram  Betel leaves    109.0   Hectare   \n",
      "21556          2023-24           Kozhikode  Betel leaves      6.0   Hectare   \n",
      "21557          2023-24             Wayanad  Betel leaves      1.0   Hectare   \n",
      "21558          2023-24              Kannur  Betel leaves      6.0   Hectare   \n",
      "21559          2023-24           Kasaragod  Betel leaves     15.0   Hectare   \n",
      "\n",
      "       Production Production Unit  Productivity Productivity Unit  \n",
      "0         14686.0              MT        2157.0       Kg/ Hectare  \n",
      "1         24933.0              MT        2176.0       Kg/ Hectare  \n",
      "2         12855.0              MT        2464.0       Kg/ Hectare  \n",
      "3         72799.0              MT        2199.0       Kg/ Hectare  \n",
      "4         34651.0              MT        2272.0       Kg/ Hectare  \n",
      "...           ...             ...           ...               ...  \n",
      "21555      3753.0              MT       22856.0       Kg/ Hectare  \n",
      "21556       276.0              MT       34389.0       Kg/ Hectare  \n",
      "21557        23.0              MT       47821.0       Kg/ Hectare  \n",
      "21558       293.0              MT       19844.0       Kg/ Hectare  \n",
      "21559       977.0              MT       45439.0       Kg/ Hectare  \n",
      "\n",
      "[21560 rows x 9 columns]\n"
     ]
    },
    {
     "data": {
      "text/plain": [
       "(21560, 9)"
      ]
     },
     "execution_count": 3,
     "metadata": {},
     "output_type": "execute_result"
    }
   ],
   "source": [
    "import numpy as np\n",
    "import pandas as pd\n",
    "import matplotlib.pyplot as plt\n",
    "import matplotlib.animation as animation\n",
    "from scipy.integrate import solve_ivp\n",
    "\n",
    "df=pd.read_csv('dataset.csv')\n",
    "print(df)\n",
    "df.shape\n",
    "\n"
   ]
  },
  {
   "cell_type": "code",
   "execution_count": null,
   "id": "0d8dfe37",
   "metadata": {},
   "outputs": [],
   "source": []
  }
 ],
 "metadata": {
  "kernelspec": {
   "display_name": "Python 3",
   "language": "python",
   "name": "python3"
  },
  "language_info": {
   "codemirror_mode": {
    "name": "ipython",
    "version": 3
   },
   "file_extension": ".py",
   "mimetype": "text/x-python",
   "name": "python",
   "nbconvert_exporter": "python",
   "pygments_lexer": "ipython3",
   "version": "3.12.1"
  }
 },
 "nbformat": 4,
 "nbformat_minor": 5
}
